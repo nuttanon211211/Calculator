{
 "cells": [
  {
   "cell_type": "code",
   "execution_count": 54,
   "metadata": {},
   "outputs": [],
   "source": [
    "import pandas as pd\n",
    "import numpy as np\n",
    "from sklearn.model_selection import train_test_split\n",
    "from sklearn.feature_extraction.text import CountVectorizer\n",
    "from tensorflow.keras.models import Model, Sequential\n",
    "from tensorflow.keras import layers\n",
    "\n",
    "from tensorflow.keras.callbacks import ModelCheckpoint, ReduceLROnPlateau\n",
    "from livelossplot.inputs.tf_keras import PlotLossesCallback\n",
    "\n",
    "from sklearn.linear_model import LogisticRegression\n",
    "\n",
    "import random"
   ]
  },
  {
   "cell_type": "code",
   "execution_count": 2,
   "metadata": {},
   "outputs": [],
   "source": [
    " df = pd.read_csv('calculation.csv')"
   ]
  },
  {
   "cell_type": "code",
   "execution_count": 3,
   "metadata": {},
   "outputs": [
    {
     "data": {
      "text/html": [
       "<div>\n",
       "<style scoped>\n",
       "    .dataframe tbody tr th:only-of-type {\n",
       "        vertical-align: middle;\n",
       "    }\n",
       "\n",
       "    .dataframe tbody tr th {\n",
       "        vertical-align: top;\n",
       "    }\n",
       "\n",
       "    .dataframe thead th {\n",
       "        text-align: right;\n",
       "    }\n",
       "</style>\n",
       "<table border=\"1\" class=\"dataframe\">\n",
       "  <thead>\n",
       "    <tr style=\"text-align: right;\">\n",
       "      <th></th>\n",
       "      <th>Text</th>\n",
       "      <th>Result</th>\n",
       "      <th>isOdd</th>\n",
       "    </tr>\n",
       "  </thead>\n",
       "  <tbody>\n",
       "    <tr>\n",
       "      <th>0</th>\n",
       "      <td>88 + 54</td>\n",
       "      <td>142</td>\n",
       "      <td>0</td>\n",
       "    </tr>\n",
       "    <tr>\n",
       "      <th>1</th>\n",
       "      <td>18 + 22</td>\n",
       "      <td>40</td>\n",
       "      <td>0</td>\n",
       "    </tr>\n",
       "    <tr>\n",
       "      <th>2</th>\n",
       "      <td>21 + 37</td>\n",
       "      <td>58</td>\n",
       "      <td>0</td>\n",
       "    </tr>\n",
       "    <tr>\n",
       "      <th>3</th>\n",
       "      <td>0 + 32</td>\n",
       "      <td>32</td>\n",
       "      <td>0</td>\n",
       "    </tr>\n",
       "    <tr>\n",
       "      <th>4</th>\n",
       "      <td>49 + 45</td>\n",
       "      <td>94</td>\n",
       "      <td>0</td>\n",
       "    </tr>\n",
       "    <tr>\n",
       "      <th>...</th>\n",
       "      <td>...</td>\n",
       "      <td>...</td>\n",
       "      <td>...</td>\n",
       "    </tr>\n",
       "    <tr>\n",
       "      <th>99995</th>\n",
       "      <td>57 % 90</td>\n",
       "      <td>57</td>\n",
       "      <td>1</td>\n",
       "    </tr>\n",
       "    <tr>\n",
       "      <th>99996</th>\n",
       "      <td>47 % 64</td>\n",
       "      <td>47</td>\n",
       "      <td>1</td>\n",
       "    </tr>\n",
       "    <tr>\n",
       "      <th>99997</th>\n",
       "      <td>5 % 23</td>\n",
       "      <td>5</td>\n",
       "      <td>1</td>\n",
       "    </tr>\n",
       "    <tr>\n",
       "      <th>99998</th>\n",
       "      <td>45 % 50</td>\n",
       "      <td>45</td>\n",
       "      <td>1</td>\n",
       "    </tr>\n",
       "    <tr>\n",
       "      <th>99999</th>\n",
       "      <td>52 % 15</td>\n",
       "      <td>7</td>\n",
       "      <td>1</td>\n",
       "    </tr>\n",
       "  </tbody>\n",
       "</table>\n",
       "<p>100000 rows × 3 columns</p>\n",
       "</div>"
      ],
      "text/plain": [
       "          Text  Result  isOdd\n",
       "0      88 + 54     142      0\n",
       "1      18 + 22      40      0\n",
       "2      21 + 37      58      0\n",
       "3       0 + 32      32      0\n",
       "4      49 + 45      94      0\n",
       "...        ...     ...    ...\n",
       "99995  57 % 90      57      1\n",
       "99996  47 % 64      47      1\n",
       "99997   5 % 23       5      1\n",
       "99998  45 % 50      45      1\n",
       "99999  52 % 15       7      1\n",
       "\n",
       "[100000 rows x 3 columns]"
      ]
     },
     "execution_count": 3,
     "metadata": {},
     "output_type": "execute_result"
    }
   ],
   "source": [
    "df"
   ]
  },
  {
   "cell_type": "code",
   "execution_count": 4,
   "metadata": {},
   "outputs": [],
   "source": [
    "texts = df['Text'].values\n",
    "y = df['isOdd'].values"
   ]
  },
  {
   "cell_type": "code",
   "execution_count": 5,
   "metadata": {},
   "outputs": [
    {
     "data": {
      "text/plain": [
       "array(['88 + 54', '18 + 22', '21 + 37', ..., '5 % 23', '45 % 50',\n",
       "       '52 % 15'], dtype=object)"
      ]
     },
     "execution_count": 5,
     "metadata": {},
     "output_type": "execute_result"
    }
   ],
   "source": [
    "texts"
   ]
  },
  {
   "cell_type": "code",
   "execution_count": 6,
   "metadata": {},
   "outputs": [
    {
     "data": {
      "text/plain": [
       "array([0, 0, 0, ..., 1, 1, 1])"
      ]
     },
     "execution_count": 6,
     "metadata": {},
     "output_type": "execute_result"
    }
   ],
   "source": [
    "y"
   ]
  },
  {
   "cell_type": "code",
   "execution_count": 7,
   "metadata": {},
   "outputs": [],
   "source": [
    "y2 = []\n",
    "for e in df.isOdd:\n",
    "    if e==1:\n",
    "        y2.append(np.array([1,0]))\n",
    "    if e==0:\n",
    "        y2.append(np.array([0,1]))\n",
    "   "
   ]
  },
  {
   "cell_type": "code",
   "execution_count": 8,
   "metadata": {},
   "outputs": [],
   "source": [
    "y = np.array(y2)"
   ]
  },
  {
   "cell_type": "code",
   "execution_count": 9,
   "metadata": {},
   "outputs": [
    {
     "data": {
      "text/plain": [
       "array([[0, 1],\n",
       "       [0, 1],\n",
       "       [0, 1],\n",
       "       ...,\n",
       "       [1, 0],\n",
       "       [1, 0],\n",
       "       [1, 0]])"
      ]
     },
     "execution_count": 9,
     "metadata": {},
     "output_type": "execute_result"
    }
   ],
   "source": [
    "y"
   ]
  },
  {
   "cell_type": "code",
   "execution_count": 10,
   "metadata": {},
   "outputs": [],
   "source": [
    "texts_train, texts_test, y_train, y_test = train_test_split(texts, y, test_size=0.25, random_state=20210724)"
   ]
  },
  {
   "cell_type": "code",
   "execution_count": 11,
   "metadata": {},
   "outputs": [
    {
     "data": {
      "text/plain": [
       "array(['99 + 92', '45 - 18', '10 // 46', ..., '82 % 23', '50 % 20',\n",
       "       '21 - 57'], dtype=object)"
      ]
     },
     "execution_count": 11,
     "metadata": {},
     "output_type": "execute_result"
    }
   ],
   "source": [
    "texts_train"
   ]
  },
  {
   "cell_type": "code",
   "execution_count": 12,
   "metadata": {},
   "outputs": [
    {
     "data": {
      "text/plain": [
       "array(['55 % 33', '19 % 99', '81 - 69', ..., '12 * 60', '71 + 3',\n",
       "       '90 * 67'], dtype=object)"
      ]
     },
     "execution_count": 12,
     "metadata": {},
     "output_type": "execute_result"
    }
   ],
   "source": [
    "texts_test"
   ]
  },
  {
   "cell_type": "code",
   "execution_count": 13,
   "metadata": {},
   "outputs": [
    {
     "data": {
      "text/plain": [
       "array([[1, 0],\n",
       "       [1, 0],\n",
       "       [0, 1],\n",
       "       ...,\n",
       "       [1, 0],\n",
       "       [0, 1],\n",
       "       [0, 1]])"
      ]
     },
     "execution_count": 13,
     "metadata": {},
     "output_type": "execute_result"
    }
   ],
   "source": [
    "y_train"
   ]
  },
  {
   "cell_type": "code",
   "execution_count": 14,
   "metadata": {},
   "outputs": [
    {
     "data": {
      "text/plain": [
       "array([[0, 1],\n",
       "       [1, 0],\n",
       "       [0, 1],\n",
       "       ...,\n",
       "       [0, 1],\n",
       "       [0, 1],\n",
       "       [0, 1]])"
      ]
     },
     "execution_count": 14,
     "metadata": {},
     "output_type": "execute_result"
    }
   ],
   "source": [
    "y_test"
   ]
  },
  {
   "cell_type": "code",
   "execution_count": 15,
   "metadata": {},
   "outputs": [
    {
     "data": {
      "text/plain": [
       "CountVectorizer(analyzer='word', binary=False, decode_error='strict',\n",
       "                dtype=<class 'numpy.int64'>, encoding='utf-8', input='content',\n",
       "                lowercase=True, max_df=1.0, max_features=None, min_df=1,\n",
       "                ngram_range=(1, 1), preprocessor=None, stop_words=None,\n",
       "                strip_accents=None, token_pattern='(?u)\\\\b\\\\w+\\\\b|\\\\b\\\\W+\\\\b',\n",
       "                tokenizer=None, vocabulary=None)"
      ]
     },
     "execution_count": 15,
     "metadata": {},
     "output_type": "execute_result"
    }
   ],
   "source": [
    "#vectorizer = CountVectorizer(token_pattern=r\"(?u)\\b\\w+\\b\")\n",
    "#vectorizer = CountVectorizer(token_pattern=r\"(?u)\\b\\w\\w|\\W+\\b\")\n",
    "#vectorizer = CountVectorizer(token_pattern=r\"(?u)\\b\\w+\\b|\\b\\W+\\b\")\n",
    "vectorizer = CountVectorizer(token_pattern=r\"(?u)\\b\\w+\\b|\\b\\W+\\b\")\n",
    "vectorizer.fit(texts_train)\n",
    "vectorizer"
   ]
  },
  {
   "cell_type": "code",
   "execution_count": 16,
   "metadata": {},
   "outputs": [
    {
     "data": {
      "text/plain": [
       "{'99': 105,\n",
       " ' + ': 2,\n",
       " '92': 98,\n",
       " '45': 46,\n",
       " ' - ': 3,\n",
       " '18': 16,\n",
       " '10': 7,\n",
       " ' // ': 4,\n",
       " '46': 47,\n",
       " '72': 76,\n",
       " '89': 94,\n",
       " '90': 96,\n",
       " ' % ': 0,\n",
       " '5': 51,\n",
       " '27': 26,\n",
       " '64': 67,\n",
       " '70': 74,\n",
       " '66': 69,\n",
       " '65': 68,\n",
       " '28': 27,\n",
       " '63': 66,\n",
       " '42': 43,\n",
       " '22': 21,\n",
       " '61': 64,\n",
       " '25': 24,\n",
       " '85': 90,\n",
       " '32': 32,\n",
       " '81': 86,\n",
       " '29': 28,\n",
       " '23': 22,\n",
       " '56': 58,\n",
       " '86': 91,\n",
       " '26': 25,\n",
       " '60': 63,\n",
       " ' * ': 1,\n",
       " '34': 34,\n",
       " '16': 14,\n",
       " '62': 65,\n",
       " '39': 39,\n",
       " '67': 70,\n",
       " '88': 93,\n",
       " '7': 73,\n",
       " '21': 20,\n",
       " '24': 23,\n",
       " '58': 60,\n",
       " '19': 17,\n",
       " '12': 10,\n",
       " '75': 79,\n",
       " '11': 9,\n",
       " '55': 57,\n",
       " '38': 38,\n",
       " '87': 92,\n",
       " '100': 8,\n",
       " '73': 77,\n",
       " '82': 87,\n",
       " '91': 97,\n",
       " '80': 85,\n",
       " '31': 31,\n",
       " '8': 84,\n",
       " '53': 55,\n",
       " '79': 83,\n",
       " '69': 72,\n",
       " '59': 61,\n",
       " '4': 40,\n",
       " '1': 6,\n",
       " '83': 88,\n",
       " '33': 33,\n",
       " '2': 18,\n",
       " '30': 30,\n",
       " '74': 78,\n",
       " '44': 45,\n",
       " '36': 36,\n",
       " '50': 52,\n",
       " '41': 42,\n",
       " '78': 82,\n",
       " '47': 48,\n",
       " '51': 53,\n",
       " '6': 62,\n",
       " '93': 99,\n",
       " '57': 59,\n",
       " '40': 41,\n",
       " '52': 54,\n",
       " '54': 56,\n",
       " '15': 13,\n",
       " '68': 71,\n",
       " '13': 11,\n",
       " '71': 75,\n",
       " '49': 50,\n",
       " '94': 100,\n",
       " '0': 5,\n",
       " '84': 89,\n",
       " '97': 103,\n",
       " '95': 101,\n",
       " '35': 35,\n",
       " '3': 29,\n",
       " '43': 44,\n",
       " '76': 80,\n",
       " '9': 95,\n",
       " '77': 81,\n",
       " '37': 37,\n",
       " '20': 19,\n",
       " '96': 102,\n",
       " '17': 15,\n",
       " '98': 104,\n",
       " '14': 12,\n",
       " '48': 49}"
      ]
     },
     "execution_count": 16,
     "metadata": {},
     "output_type": "execute_result"
    }
   ],
   "source": [
    "vectorizer.vocabulary_"
   ]
  },
  {
   "cell_type": "code",
   "execution_count": 17,
   "metadata": {},
   "outputs": [
    {
     "data": {
      "text/plain": [
       "<75000x106 sparse matrix of type '<class 'numpy.int64'>'\n",
       "\twith 224148 stored elements in Compressed Sparse Row format>"
      ]
     },
     "execution_count": 17,
     "metadata": {},
     "output_type": "execute_result"
    }
   ],
   "source": [
    "X_train = vectorizer.transform(texts_train)\n",
    "X_test  = vectorizer.transform(texts_test)\n",
    "X_train"
   ]
  },
  {
   "cell_type": "code",
   "execution_count": 18,
   "metadata": {},
   "outputs": [
    {
     "data": {
      "text/plain": [
       "<25000x106 sparse matrix of type '<class 'numpy.int64'>'\n",
       "\twith 74733 stored elements in Compressed Sparse Row format>"
      ]
     },
     "execution_count": 18,
     "metadata": {},
     "output_type": "execute_result"
    }
   ],
   "source": [
    "X_test"
   ]
  },
  {
   "cell_type": "code",
   "execution_count": 19,
   "metadata": {},
   "outputs": [
    {
     "data": {
      "text/plain": [
       "106"
      ]
     },
     "execution_count": 19,
     "metadata": {},
     "output_type": "execute_result"
    }
   ],
   "source": [
    "input_dim = X_train.shape[1]\n",
    "input_dim"
   ]
  },
  {
   "cell_type": "code",
   "execution_count": 20,
   "metadata": {},
   "outputs": [
    {
     "data": {
      "text/plain": [
       "<tensorflow.python.keras.engine.sequential.Sequential at 0x7f04c551db70>"
      ]
     },
     "execution_count": 20,
     "metadata": {},
     "output_type": "execute_result"
    }
   ],
   "source": [
    "model = Sequential()\n",
    "model.add(layers.Dense(10, input_dim=input_dim, activation='relu'))\n",
    "model.add(layers.Dense(2, activation='sigmoid'))\n",
    "#model.add(layers.Dense(1, activation='sigmoid'))\n",
    "model\n"
   ]
  },
  {
   "cell_type": "code",
   "execution_count": 21,
   "metadata": {},
   "outputs": [
    {
     "name": "stdout",
     "output_type": "stream",
     "text": [
      "Model: \"sequential\"\n",
      "_________________________________________________________________\n",
      "Layer (type)                 Output Shape              Param #   \n",
      "=================================================================\n",
      "dense (Dense)                (None, 10)                1070      \n",
      "_________________________________________________________________\n",
      "dense_1 (Dense)              (None, 2)                 22        \n",
      "=================================================================\n",
      "Total params: 1,092\n",
      "Trainable params: 1,092\n",
      "Non-trainable params: 0\n",
      "_________________________________________________________________\n"
     ]
    }
   ],
   "source": [
    "model.compile(loss='categorical_crossentropy',  optimizer='adam',   metrics=['accuracy'])\n",
    "model.summary()"
   ]
  },
  {
   "cell_type": "code",
   "execution_count": 22,
   "metadata": {},
   "outputs": [
    {
     "data": {
      "image/png": "[encoded data removed]",
      "text/plain": [
       "<Figure size 864x576 with 2 Axes>"
      ]
     },
     "metadata": {
      "needs_background": "light"
     },
     "output_type": "display_data"
    },
    {
     "name": "stdout",
     "output_type": "stream",
     "text": [
      "accuracy\n",
      "\ttraining         \t (min:    0.759, max:    0.878, cur:    0.878)\n",
      "\tvalidation       \t (min:    0.855, max:    0.868, cur:    0.867)\n",
      "Loss\n",
      "\ttraining         \t (min:    0.217, max:    0.436, cur:    0.217)\n",
      "\tvalidation       \t (min:    0.227, max:    0.291, cur:    0.227)\n",
      "\n",
      "Epoch 00020: saving model to model_weights.h5\n"
     ]
    }
   ],
   "source": [
    "reduce_lr = ReduceLROnPlateau(monitor='val_loss', factor=0.1,\n",
    "                              patience=2, min_lr=0.0001, mode='auto')\n",
    "\n",
    "checkpoint = ModelCheckpoint(\"model_weights.h5\", monitor='val_accuracy',\n",
    "                             save_weights_only=True, mode='max', verbose=1)\n",
    "\n",
    "callbacks = [PlotLossesCallback(), checkpoint, reduce_lr]\n",
    "\n",
    "history = model.fit(X_train, y_train,\n",
    "                     epochs=20,\n",
    "                     verbose=False,\n",
    "                     validation_data=(X_test, y_test),\n",
    "                     batch_size=10,\n",
    "                       callbacks=callbacks)"
   ]
  },
  {
   "cell_type": "code",
   "execution_count": 28,
   "metadata": {},
   "outputs": [
    {
     "data": {
      "text/plain": [
       "array([[0.12112442, 0.8733083 ]], dtype=float32)"
      ]
     },
     "execution_count": 28,
     "metadata": {},
     "output_type": "execute_result"
    }
   ],
   "source": [
    "texts = np.array(['1 + 1'])\n",
    "X = vectorizer.transform(texts)\n",
    "model.predict(X)"
   ]
  },
  {
   "cell_type": "code",
   "execution_count": 30,
   "metadata": {},
   "outputs": [
    {
     "data": {
      "text/plain": [
       "array([[6.9633505e-05, 9.9931639e-01]], dtype=float32)"
      ]
     },
     "execution_count": 30,
     "metadata": {},
     "output_type": "execute_result"
    }
   ],
   "source": [
    "texts = np.array(['2 + 10'])\n",
    "X = vectorizer.transform(texts)\n",
    "model.predict(X)"
   ]
  },
  {
   "cell_type": "code",
   "execution_count": 31,
   "metadata": {},
   "outputs": [
    {
     "data": {
      "text/plain": [
       "array([[1.8328165e-06, 9.9941778e-01]], dtype=float32)"
      ]
     },
     "execution_count": 31,
     "metadata": {},
     "output_type": "execute_result"
    }
   ],
   "source": [
    "texts = np.array(['13 * 10'])\n",
    "X = vectorizer.transform(texts)\n",
    "model.predict(X)"
   ]
  },
  {
   "cell_type": "code",
   "execution_count": 34,
   "metadata": {},
   "outputs": [
    {
     "data": {
      "text/plain": [
       "array([[0.89393413, 0.04362881]], dtype=float32)"
      ]
     },
     "execution_count": 34,
     "metadata": {},
     "output_type": "execute_result"
    }
   ],
   "source": [
    "texts = np.array(['13 - 10'])\n",
    "X = vectorizer.transform(texts)\n",
    "model.predict(X)"
   ]
  },
  {
   "cell_type": "code",
   "execution_count": 35,
   "metadata": {},
   "outputs": [
    {
     "data": {
      "text/plain": [
       "array([[0.2656101 , 0.49233252]], dtype=float32)"
      ]
     },
     "execution_count": 35,
     "metadata": {},
     "output_type": "execute_result"
    }
   ],
   "source": [
    "texts = np.array(['13 // 10'])\n",
    "X = vectorizer.transform(texts)\n",
    "model.predict(X)"
   ]
  },
  {
   "cell_type": "code",
   "execution_count": 36,
   "metadata": {},
   "outputs": [
    {
     "data": {
      "text/plain": [
       "array([[0.41403446, 0.24035746]], dtype=float32)"
      ]
     },
     "execution_count": 36,
     "metadata": {},
     "output_type": "execute_result"
    }
   ],
   "source": [
    "texts = np.array(['130 // 10'])\n",
    "X = vectorizer.transform(texts)\n",
    "model.predict(X)"
   ]
  },
  {
   "cell_type": "code",
   "execution_count": 39,
   "metadata": {},
   "outputs": [
    {
     "data": {
      "text/plain": [
       "array([[0.32296443, 0.38551342]], dtype=float32)"
      ]
     },
     "execution_count": 39,
     "metadata": {},
     "output_type": "execute_result"
    }
   ],
   "source": [
    "texts = np.array(['89 // 10'])\n",
    "X = vectorizer.transform(texts)\n",
    "model.predict(X)"
   ]
  },
  {
   "cell_type": "code",
   "execution_count": 40,
   "metadata": {},
   "outputs": [
    {
     "data": {
      "text/plain": [
       "array([[7.0284635e-08, 9.9999964e-01]], dtype=float32)"
      ]
     },
     "execution_count": 40,
     "metadata": {},
     "output_type": "execute_result"
    }
   ],
   "source": [
    "texts = np.array(['88 % 10'])\n",
    "X = vectorizer.transform(texts)\n",
    "model.predict(X)"
   ]
  },
  {
   "cell_type": "code",
   "execution_count": 43,
   "metadata": {},
   "outputs": [
    {
     "data": {
      "text/plain": [
       "array([[0.42031267, 0.29160368]], dtype=float32)"
      ]
     },
     "execution_count": 43,
     "metadata": {},
     "output_type": "execute_result"
    }
   ],
   "source": [
    "texts = np.array(['55 % 7'])\n",
    "X = vectorizer.transform(texts)\n",
    "model.predict(X)\n",
    "#odd, even"
   ]
  },
  {
   "cell_type": "code",
   "execution_count": 47,
   "metadata": {},
   "outputs": [],
   "source": [
    "def predict_result(text):\n",
    "    results = [\"Odd\",\"Even\"]\n",
    "    texts = np.array([text])\n",
    "    X = vectorizer.transform(texts)\n",
    "    result = model.predict(X)\n",
    "    return results[np.argmax(result)]"
   ]
  },
  {
   "cell_type": "code",
   "execution_count": 49,
   "metadata": {},
   "outputs": [
    {
     "data": {
      "text/plain": [
       "'Even'"
      ]
     },
     "execution_count": 49,
     "metadata": {},
     "output_type": "execute_result"
    }
   ],
   "source": [
    "predict_result(\"1 + 1\")"
   ]
  },
  {
   "cell_type": "code",
   "execution_count": 50,
   "metadata": {},
   "outputs": [
    {
     "data": {
      "text/plain": [
       "'Even'"
      ]
     },
     "execution_count": 50,
     "metadata": {},
     "output_type": "execute_result"
    }
   ],
   "source": [
    "predict_result(\"1 - 1\")"
   ]
  },
  {
   "cell_type": "code",
   "execution_count": 51,
   "metadata": {},
   "outputs": [
    {
     "data": {
      "text/plain": [
       "'Odd'"
      ]
     },
     "execution_count": 51,
     "metadata": {},
     "output_type": "execute_result"
    }
   ],
   "source": [
    "predict_result(\"1 * 1\")"
   ]
  },
  {
   "cell_type": "code",
   "execution_count": 52,
   "metadata": {},
   "outputs": [
    {
     "data": {
      "text/plain": [
       "'Odd'"
      ]
     },
     "execution_count": 52,
     "metadata": {},
     "output_type": "execute_result"
    }
   ],
   "source": [
    "predict_result(\"1 // 1\")"
   ]
  },
  {
   "cell_type": "code",
   "execution_count": 53,
   "metadata": {},
   "outputs": [
    {
     "data": {
      "text/plain": [
       "'Even'"
      ]
     },
     "execution_count": 53,
     "metadata": {},
     "output_type": "execute_result"
    }
   ],
   "source": [
    "predict_result(\"1 % 1\")"
   ]
  },
  {
   "cell_type": "code",
   "execution_count": null,
   "metadata": {},
   "outputs": [],
   "source": []
  },
  {
   "cell_type": "code",
   "execution_count": 186,
   "metadata": {},
   "outputs": [
    {
     "name": "stdout",
     "output_type": "stream",
     "text": [
      "####ML BRAIN####\n",
      "\n",
      "15 // 83  is Even\n",
      "\n",
      "Actually it is Even\n"
     ]
    }
   ],
   "source": [
    "operations = ['+','-','*','//','%']\n",
    "x = random.randint(0,100)\n",
    "y = random.randint(1,100)\n",
    "operator = operations[random.randint(0,4)]\n",
    "text = str(x)+\" \"+operator+\" \"+str(y)\n",
    "print(\"####ML BRAIN####\")\n",
    "print()\n",
    "print(text,\" is \",end=\"\")\n",
    "print(predict_result(text))\n",
    "\n",
    "if operator == '+':\n",
    "    z = x+y\n",
    "elif operator == '-':\n",
    "    z = x-y\n",
    "elif operator == '*':\n",
    "    z = x*y\n",
    "elif operator == '//':\n",
    "    z = x//y\n",
    "elif operator == '%':\n",
    "    z = x%y\n",
    "\n",
    "print()\n",
    "print(\"Actually it is\",['Even','Odd'][z%2])\n"
   ]
  },
  {
   "cell_type": "code",
   "execution_count": 187,
   "metadata": {},
   "outputs": [],
   "source": [
    "def guessRight():\n",
    "    operations = ['+','-','*','//','%']\n",
    "    x = random.randint(0,100)\n",
    "    y = random.randint(1,100)\n",
    "    operator = operations[random.randint(0,4)]\n",
    "    text = str(x)+\" \"+operator+\" \"+str(y)\n",
    "\n",
    "    if operator == '+':\n",
    "        z = x+y\n",
    "    elif operator == '-':\n",
    "        z = x-y\n",
    "    elif operator == '*':\n",
    "        z = x*y\n",
    "    elif operator == '//':\n",
    "        z = x//y\n",
    "    elif operator == '%':\n",
    "        z = x%y\n",
    "\n",
    "    return ['Even','Odd'][z%2] == predict_result(text)\n",
    "    "
   ]
  },
  {
   "cell_type": "code",
   "execution_count": 195,
   "metadata": {},
   "outputs": [
    {
     "data": {
      "text/plain": [
       "0.872"
      ]
     },
     "execution_count": 195,
     "metadata": {},
     "output_type": "execute_result"
    }
   ],
   "source": [
    "count = 0\n",
    "num = 1000\n",
    "for i in range(num):\n",
    "    if guessRight():\n",
    "        count += 1\n",
    "count/num"
   ]
  },
  {
   "cell_type": "code",
   "execution_count": 198,
   "metadata": {},
   "outputs": [
    {
     "data": {
      "text/plain": [
       "'Even'"
      ]
     },
     "execution_count": 198,
     "metadata": {},
     "output_type": "execute_result"
    }
   ],
   "source": [
    "predict_result(\"1 // 0\")"
   ]
  },
  {
   "cell_type": "code",
   "execution_count": 200,
   "metadata": {},
   "outputs": [
    {
     "name": "stdout",
     "output_type": "stream",
     "text": [
      "0 // 0 Even\n",
      "1 // 0 Even\n",
      "2 // 0 Even\n",
      "3 // 0 Even\n",
      "4 // 0 Even\n",
      "5 // 0 Even\n",
      "6 // 0 Even\n",
      "7 // 0 Even\n",
      "8 // 0 Even\n",
      "9 // 0 Even\n",
      "10 // 0 Even\n",
      "11 // 0 Even\n",
      "12 // 0 Even\n",
      "13 // 0 Even\n",
      "14 // 0 Even\n",
      "15 // 0 Even\n",
      "16 // 0 Even\n",
      "17 // 0 Even\n",
      "18 // 0 Even\n",
      "19 // 0 Even\n",
      "20 // 0 Even\n",
      "21 // 0 Even\n",
      "22 // 0 Even\n",
      "23 // 0 Even\n",
      "24 // 0 Even\n",
      "25 // 0 Even\n",
      "26 // 0 Even\n",
      "27 // 0 Even\n",
      "28 // 0 Even\n",
      "29 // 0 Even\n",
      "30 // 0 Even\n",
      "31 // 0 Even\n",
      "32 // 0 Even\n",
      "33 // 0 Even\n",
      "34 // 0 Even\n",
      "35 // 0 Even\n",
      "36 // 0 Even\n",
      "37 // 0 Even\n",
      "38 // 0 Even\n",
      "39 // 0 Even\n",
      "40 // 0 Even\n",
      "41 // 0 Even\n",
      "42 // 0 Even\n",
      "43 // 0 Even\n",
      "44 // 0 Even\n",
      "45 // 0 Even\n",
      "46 // 0 Even\n",
      "47 // 0 Even\n",
      "48 // 0 Even\n",
      "49 // 0 Even\n",
      "50 // 0 Even\n",
      "51 // 0 Even\n",
      "52 // 0 Even\n",
      "53 // 0 Even\n",
      "54 // 0 Even\n",
      "55 // 0 Even\n",
      "56 // 0 Even\n",
      "57 // 0 Even\n",
      "58 // 0 Even\n",
      "59 // 0 Even\n",
      "60 // 0 Even\n",
      "61 // 0 Even\n",
      "62 // 0 Even\n",
      "63 // 0 Even\n",
      "64 // 0 Even\n",
      "65 // 0 Even\n",
      "66 // 0 Even\n",
      "67 // 0 Even\n",
      "68 // 0 Even\n",
      "69 // 0 Even\n",
      "70 // 0 Even\n",
      "71 // 0 Even\n",
      "72 // 0 Even\n",
      "73 // 0 Even\n",
      "74 // 0 Even\n",
      "75 // 0 Even\n",
      "76 // 0 Even\n",
      "77 // 0 Even\n",
      "78 // 0 Even\n",
      "79 // 0 Even\n",
      "80 // 0 Even\n",
      "81 // 0 Even\n",
      "82 // 0 Even\n",
      "83 // 0 Even\n",
      "84 // 0 Even\n",
      "85 // 0 Even\n",
      "86 // 0 Even\n",
      "87 // 0 Even\n",
      "88 // 0 Even\n",
      "89 // 0 Even\n",
      "90 // 0 Even\n",
      "91 // 0 Even\n",
      "92 // 0 Even\n",
      "93 // 0 Even\n",
      "94 // 0 Even\n",
      "95 // 0 Even\n",
      "96 // 0 Even\n",
      "97 // 0 Even\n",
      "98 // 0 Even\n",
      "99 // 0 Even\n",
      "100 // 0 Even\n"
     ]
    }
   ],
   "source": [
    "for i in range(101):\n",
    "    text = str(i)+ \" // 0\"\n",
    "    print(text,predict_result(text))"
   ]
  },
  {
   "cell_type": "code",
   "execution_count": 201,
   "metadata": {},
   "outputs": [
    {
     "name": "stdout",
     "output_type": "stream",
     "text": [
      "0 % 0 Even\n",
      "1 % 0 Even\n",
      "2 % 0 Even\n",
      "3 % 0 Even\n",
      "4 % 0 Even\n",
      "5 % 0 Even\n",
      "6 % 0 Even\n",
      "7 % 0 Even\n",
      "8 % 0 Even\n",
      "9 % 0 Even\n",
      "10 % 0 Even\n",
      "11 % 0 Even\n",
      "12 % 0 Even\n",
      "13 % 0 Even\n",
      "14 % 0 Even\n",
      "15 % 0 Even\n",
      "16 % 0 Even\n",
      "17 % 0 Even\n",
      "18 % 0 Even\n",
      "19 % 0 Even\n",
      "20 % 0 Even\n",
      "21 % 0 Even\n",
      "22 % 0 Even\n",
      "23 % 0 Even\n",
      "24 % 0 Even\n",
      "25 % 0 Even\n",
      "26 % 0 Even\n",
      "27 % 0 Even\n",
      "28 % 0 Even\n",
      "29 % 0 Even\n",
      "30 % 0 Even\n",
      "31 % 0 Even\n",
      "32 % 0 Even\n",
      "33 % 0 Even\n",
      "34 % 0 Even\n",
      "35 % 0 Even\n",
      "36 % 0 Even\n",
      "37 % 0 Even\n",
      "38 % 0 Even\n",
      "39 % 0 Even\n",
      "40 % 0 Even\n",
      "41 % 0 Even\n",
      "42 % 0 Even\n",
      "43 % 0 Even\n",
      "44 % 0 Even\n",
      "45 % 0 Even\n",
      "46 % 0 Even\n",
      "47 % 0 Even\n",
      "48 % 0 Even\n",
      "49 % 0 Even\n",
      "50 % 0 Even\n",
      "51 % 0 Even\n",
      "52 % 0 Even\n",
      "53 % 0 Even\n",
      "54 % 0 Even\n",
      "55 % 0 Even\n",
      "56 % 0 Even\n",
      "57 % 0 Even\n",
      "58 % 0 Even\n",
      "59 % 0 Even\n",
      "60 % 0 Even\n",
      "61 % 0 Even\n",
      "62 % 0 Even\n",
      "63 % 0 Even\n",
      "64 % 0 Even\n",
      "65 % 0 Even\n",
      "66 % 0 Even\n",
      "67 % 0 Even\n",
      "68 % 0 Even\n",
      "69 % 0 Even\n",
      "70 % 0 Even\n",
      "71 % 0 Even\n",
      "72 % 0 Even\n",
      "73 % 0 Even\n",
      "74 % 0 Even\n",
      "75 % 0 Even\n",
      "76 % 0 Even\n",
      "77 % 0 Even\n",
      "78 % 0 Even\n",
      "79 % 0 Even\n",
      "80 % 0 Even\n",
      "81 % 0 Even\n",
      "82 % 0 Even\n",
      "83 % 0 Even\n",
      "84 % 0 Even\n",
      "85 % 0 Even\n",
      "86 % 0 Even\n",
      "87 % 0 Even\n",
      "88 % 0 Even\n",
      "89 % 0 Even\n",
      "90 % 0 Even\n",
      "91 % 0 Even\n",
      "92 % 0 Even\n",
      "93 % 0 Even\n",
      "94 % 0 Even\n",
      "95 % 0 Even\n",
      "96 % 0 Even\n",
      "97 % 0 Even\n",
      "98 % 0 Even\n",
      "99 % 0 Even\n",
      "100 % 0 Even\n"
     ]
    }
   ],
   "source": [
    "for i in range(101):\n",
    "    text = str(i)+ \" % 0\"\n",
    "    print(text,predict_result(text))"
   ]
  },
  {
   "cell_type": "code",
   "execution_count": 42,
   "metadata": {},
   "outputs": [
    {
     "data": {
      "text/plain": [
       "6"
      ]
     },
     "execution_count": 42,
     "metadata": {},
     "output_type": "execute_result"
    }
   ],
   "source": [
    "55%7"
   ]
  },
  {
   "cell_type": "code",
   "execution_count": 27,
   "metadata": {},
   "outputs": [
    {
     "ename": "RuntimeError",
     "evalue": "No active exception to reraise",
     "output_type": "error",
     "traceback": [
      "\u001b[0;31m---------------------------------------------------------------------------\u001b[0m",
      "\u001b[0;31mRuntimeError\u001b[0m                              Traceback (most recent call last)",
      "\u001b[0;32m<ipython-input-27-9c9a2cba73bf>\u001b[0m in \u001b[0;36m<module>\u001b[0;34m()\u001b[0m\n\u001b[0;32m----> 1\u001b[0;31m \u001b[0;32mraise\u001b[0m\u001b[0;34m\u001b[0m\u001b[0;34m\u001b[0m\u001b[0m\n\u001b[0m",
      "\u001b[0;31mRuntimeError\u001b[0m: No active exception to reraise"
     ]
    }
   ],
   "source": [
    "raise"
   ]
  },
  {
   "cell_type": "code",
   "execution_count": null,
   "metadata": {},
   "outputs": [],
   "source": [
    "texts = df['Text'].values\n",
    "y = df['isOdd'].values"
   ]
  },
  {
   "cell_type": "code",
   "execution_count": null,
   "metadata": {},
   "outputs": [],
   "source": [
    "texts_train, texts_test, y_train, y_test = train_test_split(texts, y, test_size=0.25, random_state=20210724)"
   ]
  },
  {
   "cell_type": "code",
   "execution_count": null,
   "metadata": {},
   "outputs": [],
   "source": [
    "vectorizer = CountVectorizer()\n",
    "vectorizer.fit(texts_train)\n",
    "vectorizer"
   ]
  },
  {
   "cell_type": "code",
   "execution_count": null,
   "metadata": {},
   "outputs": [],
   "source": [
    "classifier = LogisticRegression()"
   ]
  },
  {
   "cell_type": "code",
   "execution_count": null,
   "metadata": {},
   "outputs": [],
   "source": [
    "classifier"
   ]
  },
  {
   "cell_type": "code",
   "execution_count": null,
   "metadata": {},
   "outputs": [],
   "source": [
    "classifier.fit(X_train, y_train)"
   ]
  },
  {
   "cell_type": "code",
   "execution_count": null,
   "metadata": {},
   "outputs": [],
   "source": [
    "score = classifier.score(X_test, y_test)\n",
    "score"
   ]
  },
  {
   "cell_type": "code",
   "execution_count": null,
   "metadata": {},
   "outputs": [],
   "source": [
    "texts = np.array(['13 - 10'])\n",
    "X = vectorizer.transform(texts)\n",
    "X"
   ]
  },
  {
   "cell_type": "code",
   "execution_count": null,
   "metadata": {},
   "outputs": [],
   "source": [
    "vectorizer.vocabulary_"
   ]
  },
  {
   "cell_type": "code",
   "execution_count": null,
   "metadata": {},
   "outputs": [],
   "source": [
    "vectorizer.transform(texts).toarray()"
   ]
  }
 ],
 "metadata": {
  "kernelspec": {
   "display_name": "Python 3",
   "language": "python",
   "name": "python3"
  },
  "language_info": {
   "codemirror_mode": {
    "name": "ipython",
    "version": 3
   },
   "file_extension": ".py",
   "mimetype": "text/x-python",
   "name": "python",
   "nbconvert_exporter": "python",
   "pygments_lexer": "ipython3",
   "version": "3.7.3"
  }
 },
 "nbformat": 4,
 "nbformat_minor": 2
}
